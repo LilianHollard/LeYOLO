{
 "cells": [
  {
   "cell_type": "code",
   "execution_count": 1,
   "id": "efae5f49-dae4-447c-8bb6-41b8b7d8deb8",
   "metadata": {},
   "outputs": [],
   "source": [
    "from ultralytics import YOLO"
   ]
  },
  {
   "cell_type": "code",
   "execution_count": 2,
   "id": "7e0dff46-0037-44f8-9aaf-a94c500840af",
   "metadata": {},
   "outputs": [],
   "source": [
    "#load model \n",
    "model = YOLO(\"weights/LeYOLOSmall.pt\")"
   ]
  },
  {
   "cell_type": "code",
   "execution_count": null,
   "id": "97342916-2247-4715-971d-efaa8e719b5e",
   "metadata": {},
   "outputs": [],
   "source": []
  },
  {
   "cell_type": "code",
   "execution_count": null,
   "id": "70ac38f5-0f43-4c19-8c11-ce64d608ca1a",
   "metadata": {},
   "outputs": [],
   "source": [
    "#validation of LeYOLOSmall with pytorch model, trained at 640p, validated at 480p\n",
    "#install pycocotools for MSCOCO VALIDATION results within YOLOv8 validation script\n",
    "#YOLOv8 validation script might exhibit slightly different results\n",
    "results = model.val(data=\"coco.yaml\", imgsz=480)"
   ]
  },
  {
   "cell_type": "code",
   "execution_count": 4,
   "id": "4b603e12-1891-4a8f-b2fd-a66379fdada6",
   "metadata": {},
   "outputs": [],
   "source": [
    "#export format onnx -> from LeYOLOSmall trained at 640 to LeYOLOSmall@480p\n",
    "model.export(format=\"onnx\", imgsz=480)"
   ]
  }
 ],
 "metadata": {
  "kernelspec": {
   "display_name": "Python 3 (ipykernel)",
   "language": "python",
   "name": "python3"
  },
  "language_info": {
   "codemirror_mode": {
    "name": "ipython",
    "version": 3
   },
   "file_extension": ".py",
   "mimetype": "text/x-python",
   "name": "python",
   "nbconvert_exporter": "python",
   "pygments_lexer": "ipython3",
   "version": "3.11.7"
  }
 },
 "nbformat": 4,
 "nbformat_minor": 5
}
